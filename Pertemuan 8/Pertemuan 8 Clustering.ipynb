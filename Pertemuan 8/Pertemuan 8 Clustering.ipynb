{
 "cells": [
  {
   "cell_type": "markdown",
   "metadata": {},
   "source": [
    "# Clustering"
   ]
  },
  {
   "cell_type": "markdown",
   "metadata": {},
   "source": [
    "Sebelumnya, telah dipelajari mengenai metode Supervised Learning dalam Machine Learning. Metode Supervised Learning memiliki satu ciri-ciri yang sangat umum, yaitu data yang memiliki label dimana mesin akan mempelajari dan membuat aturan / formula terhadap data yang dimiliki berdasarkan label tersebut.  \n",
    "\n",
    "Berbeda dengan Supervised Learning, Unsupervised Learning tidak memiliki label untuk dipelajari atau dijadikan patokan oleh mesin yang mempelajari data kita. Maka dari itu, dalam Unsupervised Learning, akan dibuat aturan sedemikian rupa sehingga data dapat dikelompokkan berdasarkan karakteristik yang mirip atau berdekatan."
   ]
  },
  {
   "cell_type": "markdown",
   "metadata": {},
   "source": [
    "Salah satu contoh dari Unsupervised Learning merupakan algoritma Clustering atau ada yang menyebutnya sebagai analisis segmentasi. Clustering merupakan metode untuk membagi data yang tidak memiliki label ke dalam kluster atau kelompok yang berbeda dimana data yang memiliki sifat / karakteristik yang serupa akan berada dalam satu kluster yang sama."
   ]
  },
  {
   "cell_type": "markdown",
   "metadata": {},
   "source": [
    "<img src=\"https://raw.githubusercontent.com/ArviandanaR/Praktikum-Data-Mining-2024/main/Pertemuan%208/asset/Clustering.png\" alt=\"KNN image\" width=\"750\"/>"
   ]
  },
  {
   "cell_type": "markdown",
   "metadata": {},
   "source": [
    "## Algoritma K-Means\n",
    "\n",
    "Salah satu algoritma Clustering yang sangat umum digunakan adalah K-Means. K-Means merupakan algoritma iteratif untuk menemukan nilai centroid / titik pusat yang tepat pada tiap kluster. Tiap nilai observasi akan dimasukkan ke dalam kluster dengan centroid yang paling dekat dengannya. Nilai centroid akan terus berubah hingga didapatkan nilai atau posisi centroid yang konsisten. Dinamakan algoritma K-Means pastinya karena suatu alasan, yakni K merupakan suatu nilai / konstanta yang menandakan jumlah centroid. Sedangkan Means karena kita akan mengubah nilai centroid dengan nilai rata-rata tiap kluster yang ada."
   ]
  },
  {
   "cell_type": "markdown",
   "metadata": {},
   "source": [
    "Berikut merupakan tahapan untuk melakukan algoritma K-Means:\n",
    "- Tentukan centroid sebanyak k secara acak\n",
    "- Tetapkan tiap titik observasi ke dalam kluster yang tepat dengan mencari centroid yang paling dekat\n",
    "- Cari nilai centroid yang baru dengan menghitung rata-rata dari semua titik observasi dalam kluster\n",
    "- Menghitung ulang jarak centroid terdekat dengan titik-titik observasi, kemudian masukkan ke dalam kluster yang baru bila diperlukan\n",
    "- Ulangi langkah 3 - 5 sampai nilai centroid telah konsisten atau titik observasi dalam kluster sudah tidak berpindah lagi ataupun ketika sudah mencapai batas maksimal iterasi yang ditentukan"
   ]
  },
  {
   "cell_type": "code",
   "execution_count": 1,
   "metadata": {},
   "outputs": [],
   "source": [
    "import pandas as pd\n",
    "import numpy as np\n",
    "import seaborn as sb"
   ]
  },
  {
   "cell_type": "code",
   "execution_count": null,
   "metadata": {},
   "outputs": [],
   "source": []
  }
 ],
 "metadata": {
  "kernelspec": {
   "display_name": "Python 3",
   "language": "python",
   "name": "python3"
  },
  "language_info": {
   "codemirror_mode": {
    "name": "ipython",
    "version": 3
   },
   "file_extension": ".py",
   "mimetype": "text/x-python",
   "name": "python",
   "nbconvert_exporter": "python",
   "pygments_lexer": "ipython3",
   "version": "3.11.1"
  }
 },
 "nbformat": 4,
 "nbformat_minor": 2
}
